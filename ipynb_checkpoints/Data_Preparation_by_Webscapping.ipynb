{
 "cells": [
  {
   "cell_type": "markdown",
   "id": "baeb7d3b-bf33-4c40-a27e-5d7f5cc17b58",
   "metadata": {},
   "source": [
    "# Web Scraping with BeautifulSoup\n",
    "This code snippet demonstrates web scraping using the `requests` and `BeautifulSoup` libraries in Python. The goal is to extract data from a website's HTML content."
   ]
  },
  {
   "cell_type": "code",
   "execution_count": 3,
   "id": "0b033683-93ad-4fd6-b814-a0a2de16f9a9",
   "metadata": {},
   "outputs": [],
   "source": [
    "import requests\n",
    "from bs4 import BeautifulSoup\n",
    "from tqdm import tqdm\n",
    "import pandas as pd\n",
    "import numpy as np"
   ]
  },
  {
   "cell_type": "markdown",
   "id": "41e29fc0-7413-42dc-84be-211cf2c908bb",
   "metadata": {},
   "source": [
    "# Scraping Data From Amazon"
   ]
  },
  {
   "cell_type": "code",
   "execution_count": 6,
   "id": "70c0a7f4-07e4-4d00-8a18-1f48ef85c968",
   "metadata": {},
   "outputs": [],
   "source": [
    "def scrap_data_from_amazon(url: str):\n",
    "    # Set the header for the request to mimic a web browser\n",
    "    header = {\n",
    "        'User-Agent': 'Mozilla/5.0 (Windows NT 10.0; Win64; x64) AppleWebKit/537.36 (KHTML, like Gecko) Chrome/113.0.0.0 Safari/537.36',\n",
    "        'Accepted-Language': 'en-US, en;q=0.5'\n",
    "    }\n",
    "    \n",
    "    # Send a GET request to the provided URL with the specified header\n",
    "    response = requests.get(url, headers=header)\n",
    "    \n",
    "    # Create a BeautifulSoup object to parse the HTML content\n",
    "    soup = BeautifulSoup(response.content, 'html.parser')\n",
    "    \n",
    "    # Find all elements with class 'a-size-base-plus a-color-base' to extract brand names\n",
    "    brand = soup.find_all('span', {'class': 'a-size-base-plus a-color-base'})\n",
    "    \n",
    "    # Find all elements with class 'a-size-base-plus a-color-base a-text-normal' to extract descriptions\n",
    "    description = soup.find_all('span', {'class': 'a-size-base-plus a-color-base a-text-normal'})\n",
    "\n",
    "    # Find all elements with class 'a-price-whole' to extract prices\n",
    "    price = soup.find_all('span', {'class': 'a-price-whole'})\n",
    "\n",
    "    # Find all elements with class 'a-icon a-icon-star-small a-star-small-4 aok-align-bottom' to extract ratings\n",
    "    ratings_list = []\n",
    "    rating_tags = soup.find_all('i', class_='a-icon-star-small')\n",
    "    for rate_tag in rating_tags:\n",
    "        span_tag = rate_tag.find('span', class_='a-icon-alt')\n",
    "        if span_tag:\n",
    "            rating = span_tag.text.replace(' out of 5 stars', '')\n",
    "            ratings_list.append(rating)\n",
    "        else:\n",
    "            ratings_list.append(np.nan)\n",
    "\n",
    "    # Find all elements with class 'a-size-base s-underline-text' to extract rating counts\n",
    "    rating_counts_list = []\n",
    "    count_tags = soup.find_all('a', class_='a-link-normal s-underline-text s-underline-link-text s-link-style')\n",
    "    for count_tag in count_tags:\n",
    "        span_tag = count_tag.find('span', class_='a-size-base')\n",
    "        if span_tag:\n",
    "            rating_count = span_tag.text\n",
    "            rating_counts_list.append(rating_count)\n",
    "        else:\n",
    "            rating_counts_list.append(np.nan)\n",
    "\n",
    "    # Find all <a> tags with class 'a-link-normal s-underline-text s-underline-link-text s-link-style a-text-normal' to extract URLs\n",
    "    urls = soup.find_all('a', {'class': 'a-link-normal s-underline-text s-underline-link-text s-link-style a-text-normal'})\n",
    "    \n",
    "    image_urls = soup.find_all('img',{'class':'s-image'})\n",
    "    \n",
    "    # Extract the text content from the 'brand' elements and store them in a list\n",
    "    brand_names_list = [each.text for each in brand]\n",
    "    \n",
    "    # Extract the text content from the 'description' elements and store them in a list\n",
    "    descriptions_list = [each.text for each in description]\n",
    "\n",
    "    # Extract the text content from the 'price' elements and store them in a list\n",
    "    prices_list = [each.text for each in price]\n",
    "    \n",
    "    # Create a list of product URLs by appending the href attribute to 'https://www.amazon.in'\n",
    "    product_link_list = ['https://www.amazon.in' + each['href'] for each in urls]\n",
    "    \n",
    "    image_urls_list = [each['src'] for each in image_urls]\n",
    "    \n",
    "    # Return the lists of brand names, descriptions, and product URLs\n",
    "    return brand_names_list, descriptions_list, prices_list, ratings_list, rating_counts_list, product_link_list,image_urls_list"
   ]
  },
  {
   "cell_type": "markdown",
   "id": "772b5d65-2b1b-4f69-afbe-989bed52c384",
   "metadata": {},
   "source": [
    "# Initializing Empty Lists for Amazon Data"
   ]
  },
  {
   "cell_type": "code",
   "execution_count": 9,
   "id": "38622b64-8016-4116-ae35-f0432785cbc6",
   "metadata": {},
   "outputs": [],
   "source": [
    "amazon_product_brand_names = []\n",
    "amazon_product_descriptions = []\n",
    "amazon_product_prices = []\n",
    "amazon_product_ratings = []\n",
    "amazon_product_rating_counts = []\n",
    "amazon_product_urls = []\n",
    "amazon_product_image_urls = []"
   ]
  },
  {
   "cell_type": "markdown",
   "id": "9aefa0d1-5bb8-4a07-a064-5b5cc285467d",
   "metadata": {},
   "source": [
    "# Extracting Men's Clothing Data\n",
    "\n",
    "## Mens T-Shirts"
   ]
  },
  {
   "cell_type": "code",
   "execution_count": 12,
   "id": "7ae8a31e-a059-40d2-b29d-8fe4a1ac86a9",
   "metadata": {},
   "outputs": [
    {
     "name": "stderr",
     "output_type": "stream",
     "text": [
      "100%|██████████| 30/30 [00:54<00:00,  1.81s/page]\n"
     ]
    }
   ],
   "source": [
    "# Set the total number of pages\n",
    "total_pages = 30\n",
    "\n",
    "# Initialize the progress bar\n",
    "progress_bar = tqdm(total=total_pages, unit='page')\n",
    "\n",
    "# Iterate over each page\n",
    "for page in range(1, total_pages + 1):\n",
    "    # Create the URL for the specific page\n",
    "    url = f'https://www.amazon.in/s?i=apparel&rh=n%3A1968120031%2Cp_36%3A4595084031&page=2&content-id=amzn1.sym.f5e83e00-a666-492b-b882-5fa6fba3548e&pd_rd_r=21025b0c-ec69-41d2-96e6-ec699afe0fee&pd_rd_w=lDWwe&pd_rd_wg=IQSQx&pf_rd_p=f5e83e00-a666-492b-b882-5fa6fba3548e&pf_rd_r=4SSBTYVCG98DM53DR4PQ&ref=sr_pg_{page}'\n",
    "    \n",
    "    # Scrape data from the Amazon page using the provided URL\n",
    "    brand_names, descriptions, prices, ratings, rating_counts, urls, image_urls = scrap_data_from_amazon(url)\n",
    "    \n",
    "    # Extend the respective lists with the obtained data from the current page\n",
    "    amazon_product_brand_names.extend(brand_names)\n",
    "    amazon_product_descriptions.extend(descriptions)\n",
    "    amazon_product_prices.extend(prices)\n",
    "    amazon_product_ratings.extend(ratings)\n",
    "    amazon_product_rating_counts.extend(rating_counts)\n",
    "    amazon_product_urls.extend(urls)\n",
    "    amazon_product_image_urls.extend(image_urls)\n",
    "    \n",
    "    # Update the progress bar\n",
    "    progress_bar.update(1)\n",
    "\n",
    "# Close the progress bar\n",
    "progress_bar.close()"
   ]
  },
  {
   "cell_type": "markdown",
   "id": "bab8d98b-5b0a-40bb-9b2c-eae33bd24bcb",
   "metadata": {},
   "source": [
    "## Mens Jeans"
   ]
  },
  {
   "cell_type": "code",
   "execution_count": 14,
   "id": "b953dec9-bc1c-4d68-9fb2-dcb0e57d1c67",
   "metadata": {},
   "outputs": [
    {
     "name": "stderr",
     "output_type": "stream",
     "text": [
      "100%|██████████| 30/30 [00:50<00:00,  1.69s/page]\n"
     ]
    }
   ],
   "source": [
    "# Set the total number of pages\n",
    "total_pages = 30\n",
    "\n",
    "# Initialize the progress bar\n",
    "progress_bar = tqdm(total=total_pages, unit='page')\n",
    "\n",
    "# Iterate over each page\n",
    "for page in range(1, total_pages + 1):\n",
    "    # Create the URL for the specific page\n",
    "    url = f'https://www.amazon.in/s?i=apparel&rh=n%3A1968076031&fs=true&page=2&ref=sr_pg_{page}'\n",
    "    \n",
    "    # Scrape data from the Amazon page using the provided URL\n",
    "    brand_names, descriptions, prices, ratings, rating_counts, urls, image_urls = scrap_data_from_amazon(url)\n",
    "    \n",
    "    # Extend the respective lists with the obtained data from the current page\n",
    "    amazon_product_brand_names.extend(brand_names)\n",
    "    amazon_product_descriptions.extend(descriptions)\n",
    "    amazon_product_prices.extend(prices)\n",
    "    amazon_product_ratings.extend(ratings)\n",
    "    amazon_product_rating_counts.extend(rating_counts)\n",
    "    amazon_product_urls.extend(urls)\n",
    "    amazon_product_image_urls.extend(image_urls)\n",
    "    \n",
    "    # Update the progress bar\n",
    "    progress_bar.update(1)\n",
    "\n",
    "# Close the progress bar\n",
    "progress_bar.close()"
   ]
  },
  {
   "cell_type": "markdown",
   "id": "80c0c7c9-3380-4175-9458-f6c0f2d06efe",
   "metadata": {},
   "source": [
    "## Mens Coat"
   ]
  },
  {
   "cell_type": "code",
   "execution_count": 16,
   "id": "603d79cf-d7ef-4c80-98bc-31583426b2fa",
   "metadata": {},
   "outputs": [
    {
     "name": "stderr",
     "output_type": "stream",
     "text": [
      "100%|██████████| 30/30 [00:52<00:00,  1.74s/page]\n"
     ]
    }
   ],
   "source": [
    "# Set the total number of pages\n",
    "total_pages = 30\n",
    "\n",
    "# Initialize the progress bar\n",
    "progress_bar = tqdm(total=total_pages, unit='page')\n",
    "\n",
    "# Iterate over each page\n",
    "for page in range(1, total_pages + 1):\n",
    "    # Create the URL for the specific page\n",
    "    url = f'https://www.amazon.in/s?i=apparel&rh=n%3A1968088031&fs=true&page=2&qid=1684610738&ref=sr_pg_{page}'\n",
    "    \n",
    "    # Scrape data from the Amazon page using the provided URL\n",
    "    brand_names, descriptions, prices, ratings, rating_counts, urls, image_urls = scrap_data_from_amazon(url)\n",
    "    \n",
    "    # Extend the respective lists with the obtained data from the current page\n",
    "    amazon_product_brand_names.extend(brand_names)\n",
    "    amazon_product_descriptions.extend(descriptions)\n",
    "    amazon_product_prices.extend(prices)\n",
    "    amazon_product_ratings.extend(ratings)\n",
    "    amazon_product_rating_counts.extend(rating_counts)\n",
    "    amazon_product_urls.extend(urls)\n",
    "    amazon_product_image_urls.extend(image_urls)\n",
    "    \n",
    "    # Update the progress bar\n",
    "    progress_bar.update(1)\n",
    "\n",
    "# Close the progress bar\n",
    "progress_bar.close()"
   ]
  },
  {
   "cell_type": "markdown",
   "id": "81f6640f-38eb-44f7-946d-f413ec483d26",
   "metadata": {},
   "source": [
    "## Mens Sweaters"
   ]
  },
  {
   "cell_type": "code",
   "execution_count": 18,
   "id": "3cdcf1cb-7300-4fd5-a274-85b16190b808",
   "metadata": {},
   "outputs": [
    {
     "name": "stderr",
     "output_type": "stream",
     "text": [
      "100%|██████████| 30/30 [00:49<00:00,  1.64s/page]\n"
     ]
    }
   ],
   "source": [
    "# Set the total number of pages\n",
    "total_pages = 30\n",
    "\n",
    "# Initialize the progress bar\n",
    "progress_bar = tqdm(total=total_pages, unit='page')\n",
    "\n",
    "# Iterate over each page\n",
    "for page in range(1, total_pages + 1):\n",
    "    # Create the URL for the specific page\n",
    "    url = f'https://www.amazon.in/s?i=apparel&rh=n%3A1968077031&fs=true&page=2&qid=1684610897&ref=sr_pg_{page}'\n",
    "    \n",
    "    # Scrape data from the Amazon page using the provided URL\n",
    "    brand_names, descriptions, prices, ratings, rating_counts, urls, image_urls = scrap_data_from_amazon(url)\n",
    "    \n",
    "    # Extend the respective lists with the obtained data from the current page\n",
    "    amazon_product_brand_names.extend(brand_names)\n",
    "    amazon_product_descriptions.extend(descriptions)\n",
    "    amazon_product_prices.extend(prices)\n",
    "    amazon_product_ratings.extend(ratings)\n",
    "    amazon_product_rating_counts.extend(rating_counts)\n",
    "    amazon_product_urls.extend(urls)\n",
    "    amazon_product_image_urls.extend(image_urls)\n",
    "    \n",
    "    # Update the progress bar\n",
    "    progress_bar.update(1)\n",
    "\n",
    "# Close the progress bar\n",
    "progress_bar.close()"
   ]
  },
  {
   "cell_type": "markdown",
   "id": "45f55cca-66fa-467e-94a1-9148a079b50b",
   "metadata": {},
   "source": [
    "## Mens Shorts"
   ]
  },
  {
   "cell_type": "code",
   "execution_count": 20,
   "id": "62e020bd-4b64-4fdc-bb0b-789411cb13d5",
   "metadata": {},
   "outputs": [
    {
     "name": "stderr",
     "output_type": "stream",
     "text": [
      "100%|██████████| 30/30 [00:50<00:00,  1.69s/page]\n"
     ]
    }
   ],
   "source": [
    "# Set the total number of pages\n",
    "total_pages = 30\n",
    "\n",
    "# Initialize the progress bar\n",
    "progress_bar = tqdm(total=total_pages, unit='page')\n",
    "\n",
    "# Iterate over each page\n",
    "for page in range(1, total_pages + 1):\n",
    "    # Create the URL for the specific page\n",
    "    url = f'https://www.amazon.in/s?i=apparel&rh=n%3A1571271031%2Cn%3A1968024031%2Cn%3A1968097031%2Cp_36%3A4595084031&dc&ds=v1%3ACAonSUFlRvplQjMR4po2YHdQTQTqt77VqvlhX3AzbV4&rnid=1571271031&ref=sr_pg_{page}'\n",
    "    \n",
    "    # Scrape data from the Amazon page using the provided URL\n",
    "    brand_names, descriptions, prices, ratings, rating_counts, urls, image_urls = scrap_data_from_amazon(url)\n",
    "    \n",
    "    # Extend the respective lists with the obtained data from the current page\n",
    "    amazon_product_brand_names.extend(brand_names)\n",
    "    amazon_product_descriptions.extend(descriptions)\n",
    "    amazon_product_prices.extend(prices)\n",
    "    amazon_product_ratings.extend(ratings)\n",
    "    amazon_product_rating_counts.extend(rating_counts)\n",
    "    amazon_product_urls.extend(urls)\n",
    "    amazon_product_image_urls.extend(image_urls)\n",
    "    \n",
    "    # Update the progress bar\n",
    "    progress_bar.update(1)\n",
    "\n",
    "# Close the progress bar\n",
    "progress_bar.close()"
   ]
  },
  {
   "cell_type": "markdown",
   "id": "91786509-22ee-4880-81fe-e1ab683f5b06",
   "metadata": {},
   "source": [
    "## Mens Innerwear"
   ]
  },
  {
   "cell_type": "code",
   "execution_count": 22,
   "id": "a8cf8dde-eca1-4a06-9c46-56e000ee4316",
   "metadata": {},
   "outputs": [
    {
     "name": "stderr",
     "output_type": "stream",
     "text": [
      "100%|██████████| 30/30 [00:56<00:00,  1.89s/page]\n"
     ]
    }
   ],
   "source": [
    "# Set the total number of pages\n",
    "total_pages = 30\n",
    "\n",
    "# Initialize the progress bar\n",
    "progress_bar = tqdm(total=total_pages, unit='page')\n",
    "\n",
    "# Iterate over each page\n",
    "for page in range(1, total_pages + 1):\n",
    "    # Create the URL for the specific page\n",
    "    url = f'https://www.amazon.in/s?i=apparel&rh=n%3A1571271031%2Cn%3A1968024031%2Cn%3A1968126031%2Cp_36%3A4595084031&dc&ds=v1%3AamBqkG9tRXdF92oUTAhQ5Qbj%2BFFoD4G2UK0YqVZOtYw&rnid=1571271031&ref=sr_pg_{page}'\n",
    "    \n",
    "    # Scrape data from the Amazon page using the provided URL\n",
    "    brand_names, descriptions, prices, ratings, rating_counts, urls, image_urls = scrap_data_from_amazon(url)\n",
    "    \n",
    "    # Extend the respective lists with the obtained data from the current page\n",
    "    amazon_product_brand_names.extend(brand_names)\n",
    "    amazon_product_descriptions.extend(descriptions)\n",
    "    amazon_product_prices.extend(prices)\n",
    "    amazon_product_ratings.extend(ratings)\n",
    "    amazon_product_rating_counts.extend(rating_counts)\n",
    "    amazon_product_urls.extend(urls)\n",
    "    amazon_product_image_urls.extend(image_urls)\n",
    "    \n",
    "    # Update the progress bar\n",
    "    progress_bar.update(1)\n",
    "\n",
    "# Close the progress bar\n",
    "progress_bar.close()"
   ]
  },
  {
   "cell_type": "markdown",
   "id": "3452ac91-95da-4000-91ca-319abdfa146d",
   "metadata": {},
   "source": [
    "## Mens Sweat-Shirt"
   ]
  },
  {
   "cell_type": "code",
   "execution_count": 24,
   "id": "4b447958-acf3-414e-8548-ac0cc8e7ccee",
   "metadata": {},
   "outputs": [
    {
     "name": "stderr",
     "output_type": "stream",
     "text": [
      "100%|██████████| 30/30 [00:51<00:00,  1.73s/page]\n"
     ]
    }
   ],
   "source": [
    "# Set the total number of pages\n",
    "total_pages = 30\n",
    "\n",
    "# Initialize the progress bar\n",
    "progress_bar = tqdm(total=total_pages, unit='page')\n",
    "\n",
    "# Iterate over each page\n",
    "for page in range(1, total_pages + 1):\n",
    "    # Create the URL for the specific page\n",
    "    url = f'https://www.amazon.in/s?i=apparel&rh=n%3A1571271031%2Cn%3A1968024031%2Cn%3A1968062031%2Cn%3A11960414031%2Cp_36%3A4595084031&dc&ds=v1%3AxDSbDq%2B2SUuQKwIW2gtvVo7%2B1qBfiXTqQEc8kLl%2FdqQ&rnid=1571271031&ref=sr_pg_{page}'\n",
    "    \n",
    "    # Scrape data from the Amazon page using the provided URL\n",
    "    brand_names, descriptions, prices, ratings, rating_counts, urls, image_urls = scrap_data_from_amazon(url)\n",
    "    \n",
    "    # Extend the respective lists with the obtained data from the current page\n",
    "    amazon_product_brand_names.extend(brand_names)\n",
    "    amazon_product_descriptions.extend(descriptions)\n",
    "    amazon_product_prices.extend(prices)\n",
    "    amazon_product_ratings.extend(ratings)\n",
    "    amazon_product_rating_counts.extend(rating_counts)\n",
    "    amazon_product_urls.extend(urls)\n",
    "    amazon_product_image_urls.extend(image_urls)\n",
    "    \n",
    "    # Update the progress bar\n",
    "    progress_bar.update(1)\n",
    "\n",
    "# Close the progress bar\n",
    "progress_bar.close()"
   ]
  },
  {
   "cell_type": "markdown",
   "id": "b5ef611f-b956-4bef-a383-0ffb7b51f9ba",
   "metadata": {},
   "source": [
    "## Mens Cap & Hats"
   ]
  },
  {
   "cell_type": "code",
   "execution_count": 26,
   "id": "52afe787-afe3-4283-beb1-9f84d9c95087",
   "metadata": {},
   "outputs": [
    {
     "name": "stderr",
     "output_type": "stream",
     "text": [
      "100%|██████████| 30/30 [00:57<00:00,  1.92s/page]\n"
     ]
    }
   ],
   "source": [
    "# Set the total number of pages\n",
    "total_pages = 30\n",
    "\n",
    "# Initialize the progress bar\n",
    "progress_bar = tqdm(total=total_pages, unit='page')\n",
    "\n",
    "# Iterate over each page\n",
    "for page in range(1, total_pages + 1):\n",
    "    # Create the URL for the specific page\n",
    "    url = f'https://www.amazon.in/s?i=apparel&rh=n%3A1571271031%2Cn%3A1968024031%2Cn%3A1968025031%2Cn%3A1968039031%2Cp_36%3A4595084031&dc&ds=v1%3AoJMUPwTypCtbidK%2B751yVOPz0Gni3ze748mEJYLt%2BeY&rnid=1571271031&ref=sr_pg_{page}'\n",
    "    \n",
    "    # Scrape data from the Amazon page using the provided URL\n",
    "    brand_names, descriptions, prices, ratings, rating_counts, urls, image_urls = scrap_data_from_amazon(url)\n",
    "    \n",
    "    # Extend the respective lists with the obtained data from the current page\n",
    "    amazon_product_brand_names.extend(brand_names)\n",
    "    amazon_product_descriptions.extend(descriptions)\n",
    "    amazon_product_prices.extend(prices)\n",
    "    amazon_product_ratings.extend(ratings)\n",
    "    amazon_product_rating_counts.extend(rating_counts)\n",
    "    amazon_product_urls.extend(urls)\n",
    "    amazon_product_image_urls.extend(image_urls)\n",
    "    \n",
    "    # Update the progress bar\n",
    "    progress_bar.update(1)\n",
    "\n",
    "# Close the progress bar\n",
    "progress_bar.close()"
   ]
  },
  {
   "cell_type": "markdown",
   "id": "10141cf8-b2e8-4915-abc9-73521064ce20",
   "metadata": {},
   "source": [
    "# Extracting Women's Clothing Data\n",
    "\n",
    "## Womens Kurtis"
   ]
  },
  {
   "cell_type": "code",
   "execution_count": 28,
   "id": "8d985950-3584-453b-a493-2a60bb87950c",
   "metadata": {},
   "outputs": [
    {
     "name": "stderr",
     "output_type": "stream",
     "text": [
      "100%|██████████| 30/30 [00:57<00:00,  1.93s/page]\n"
     ]
    }
   ],
   "source": [
    "# Set the total number of pages\n",
    "total_pages = 30\n",
    "\n",
    "# Initialize the progress bar\n",
    "progress_bar = tqdm(total=total_pages, unit='page')\n",
    "\n",
    "# Iterate over each page\n",
    "for page in range(1, total_pages + 1):\n",
    "    # Create the URL for the specific page\n",
    "    url = f'https://www.amazon.in/s?i=apparel&rh=n%3A1968255031&fs=true&page=2&qid=1684611025&ref=sr_pg_{page}'\n",
    "    \n",
    "    # Scrape data from the Amazon page using the provided URL\n",
    "    brand_names, descriptions, prices, ratings, rating_counts, urls, image_urls = scrap_data_from_amazon(url)\n",
    "    \n",
    "    # Extend the respective lists with the obtained data from the current page\n",
    "    amazon_product_brand_names.extend(brand_names)\n",
    "    amazon_product_descriptions.extend(descriptions)\n",
    "    amazon_product_prices.extend(prices)\n",
    "    amazon_product_ratings.extend(ratings)\n",
    "    amazon_product_rating_counts.extend(rating_counts)\n",
    "    amazon_product_urls.extend(urls)\n",
    "    amazon_product_image_urls.extend(image_urls)\n",
    "    \n",
    "    # Update the progress bar\n",
    "    progress_bar.update(1)\n",
    "\n",
    "# Close the progress bar\n",
    "progress_bar.close()"
   ]
  },
  {
   "cell_type": "markdown",
   "id": "78f91cb1-b228-43d1-a5f7-240b6aaadeb3",
   "metadata": {},
   "source": [
    "## Womens Western-Wear"
   ]
  },
  {
   "cell_type": "code",
   "execution_count": 30,
   "id": "b074efd6-b44a-4889-b44e-2cb41d2a4deb",
   "metadata": {},
   "outputs": [
    {
     "name": "stderr",
     "output_type": "stream",
     "text": [
      "100%|██████████| 30/30 [00:53<00:00,  1.79s/page]\n"
     ]
    }
   ],
   "source": [
    "# Set the total number of pages\n",
    "total_pages = 30\n",
    "\n",
    "# Initialize the progress bar\n",
    "progress_bar = tqdm(total=total_pages, unit='page')\n",
    "\n",
    "# Iterate over each page\n",
    "for page in range(1, total_pages + 1):\n",
    "    # Create the URL for the specific page\n",
    "    url = f'https://www.amazon.in/s?i=apparel&rh=n%3A11400137031&fs=true&page=2&ref=sr_pg_{page}'\n",
    "    \n",
    "    # Scrape data from the Amazon page using the provided URL\n",
    "    brand_names, descriptions, prices, ratings, rating_counts, urls, image_urls = scrap_data_from_amazon(url)\n",
    "    \n",
    "    # Extend the respective lists with the obtained data from the current page\n",
    "    amazon_product_brand_names.extend(brand_names)\n",
    "    amazon_product_descriptions.extend(descriptions)\n",
    "    amazon_product_prices.extend(prices)\n",
    "    amazon_product_ratings.extend(ratings)\n",
    "    amazon_product_rating_counts.extend(rating_counts)\n",
    "    amazon_product_urls.extend(urls)\n",
    "    amazon_product_image_urls.extend(image_urls)\n",
    "    \n",
    "    # Update the progress bar\n",
    "    progress_bar.update(1)\n",
    "\n",
    "# Close the progress bar\n",
    "progress_bar.close()"
   ]
  },
  {
   "cell_type": "markdown",
   "id": "8a72435c-b362-4cd1-b86c-bf331657328e",
   "metadata": {},
   "source": [
    "## Womens Salwar Suits"
   ]
  },
  {
   "cell_type": "code",
   "execution_count": 32,
   "id": "68266b2a-d7d1-408d-9d36-58267587cd04",
   "metadata": {},
   "outputs": [
    {
     "name": "stderr",
     "output_type": "stream",
     "text": [
      "100%|██████████| 30/30 [00:48<00:00,  1.61s/page]\n"
     ]
    }
   ],
   "source": [
    "# Set the total number of pages\n",
    "total_pages = 30\n",
    "\n",
    "# Initialize the progress bar\n",
    "progress_bar = tqdm(total=total_pages, unit='page')\n",
    "\n",
    "# Iterate over each page\n",
    "for page in range(1, total_pages + 1):\n",
    "    # Create the URL for the specific page\n",
    "    url = f'https://www.amazon.in/s?i=apparel&rh=n%3A3723380031&fs=true&page=2&ref=sr_pg_{page}'\n",
    "    \n",
    "    # Scrape data from the Amazon page using the provided URL\n",
    "    brand_names, descriptions, prices, ratings, rating_counts, urls, image_urls = scrap_data_from_amazon(url)\n",
    "    \n",
    "    # Extend the respective lists with the obtained data from the current page\n",
    "    amazon_product_brand_names.extend(brand_names)\n",
    "    amazon_product_descriptions.extend(descriptions)\n",
    "    amazon_product_prices.extend(prices)\n",
    "    amazon_product_ratings.extend(ratings)\n",
    "    amazon_product_rating_counts.extend(rating_counts)\n",
    "    amazon_product_urls.extend(urls)\n",
    "    amazon_product_image_urls.extend(image_urls)\n",
    "    \n",
    "    # Update the progress bar\n",
    "    progress_bar.update(1)\n",
    "\n",
    "# Close the progress bar\n",
    "progress_bar.close()"
   ]
  },
  {
   "cell_type": "markdown",
   "id": "b769d6d2-03fb-44d4-8a54-85531061e04d",
   "metadata": {},
   "source": [
    "## Womens Sarees"
   ]
  },
  {
   "cell_type": "code",
   "execution_count": 34,
   "id": "9b1d81db-cd94-407e-87aa-9f1f769bcb17",
   "metadata": {},
   "outputs": [
    {
     "name": "stderr",
     "output_type": "stream",
     "text": [
      "100%|██████████| 30/30 [00:50<00:00,  1.70s/page]\n"
     ]
    }
   ],
   "source": [
    "# Set the total number of pages\n",
    "total_pages = 30\n",
    "\n",
    "# Initialize the progress bar\n",
    "progress_bar = tqdm(total=total_pages, unit='page')\n",
    "\n",
    "# Iterate over each page\n",
    "for page in range(1, total_pages + 1):\n",
    "    # Create the URL for the specific page\n",
    "    url = f'https://www.amazon.in/s?i=apparel&rh=n%3A1968256031&fs=true&page=2&ref=sr_pg_{page}'\n",
    "    \n",
    "    # Scrape data from the Amazon page using the provided URL\n",
    "    brand_names, descriptions, prices, ratings, rating_counts, urls, image_urls = scrap_data_from_amazon(url)\n",
    "    \n",
    "    # Extend the respective lists with the obtained data from the current page\n",
    "    amazon_product_brand_names.extend(brand_names)\n",
    "    amazon_product_descriptions.extend(descriptions)\n",
    "    amazon_product_prices.extend(prices)\n",
    "    amazon_product_ratings.extend(ratings)\n",
    "    amazon_product_rating_counts.extend(rating_counts)\n",
    "    amazon_product_urls.extend(urls)\n",
    "    amazon_product_image_urls.extend(image_urls)\n",
    "    \n",
    "    # Update the progress bar\n",
    "    progress_bar.update(1)\n",
    "\n",
    "# Close the progress bar\n",
    "progress_bar.close()"
   ]
  },
  {
   "cell_type": "markdown",
   "id": "05941ad5-3fdc-4db2-bb6e-6109c069ad69",
   "metadata": {},
   "source": [
    "## Womens Lingerie"
   ]
  },
  {
   "cell_type": "code",
   "execution_count": 36,
   "id": "0133d0a8-1939-44f5-8ad6-f7196ba09542",
   "metadata": {},
   "outputs": [
    {
     "name": "stderr",
     "output_type": "stream",
     "text": [
      "100%|██████████| 30/30 [00:55<00:00,  1.84s/page]\n"
     ]
    }
   ],
   "source": [
    "# Set the total number of pages\n",
    "total_pages = 30\n",
    "\n",
    "# Initialize the progress bar\n",
    "progress_bar = tqdm(total=total_pages, unit='page')\n",
    "\n",
    "# Iterate over each page\n",
    "for page in range(1, total_pages + 1):\n",
    "    # Create the URL for the specific page\n",
    "    url = f'https://www.amazon.in/s?i=apparel&rh=n%3A1571271031%2Cn%3A1953602031%2Cn%3A1968253031%2Cn%3A3723378031%2Cp_36%3A4595084031&dc&ds=v1%3AmyGvtxUXcSm0yh4fabDKCcMhC5uKhyhNZUZim9lnoto&rnid=1571271031&ref=sr_pg_{page}'\n",
    "    \n",
    "    # Scrape data from the Amazon page using the provided URL\n",
    "    brand_names, descriptions, prices, ratings, rating_counts, urls, image_urls = scrap_data_from_amazon(url)\n",
    "    \n",
    "    # Extend the respective lists with the obtained data from the current page\n",
    "    amazon_product_brand_names.extend(brand_names)\n",
    "    amazon_product_descriptions.extend(descriptions)\n",
    "    amazon_product_prices.extend(prices)\n",
    "    amazon_product_ratings.extend(ratings)\n",
    "    amazon_product_rating_counts.extend(rating_counts)\n",
    "    amazon_product_urls.extend(urls)\n",
    "    amazon_product_image_urls.extend(image_urls)\n",
    "    \n",
    "    # Update the progress bar\n",
    "    progress_bar.update(1)\n",
    "\n",
    "# Close the progress bar\n",
    "progress_bar.close()"
   ]
  },
  {
   "cell_type": "markdown",
   "id": "f57b9922-4488-4321-93ea-78c55b43ae83",
   "metadata": {},
   "source": [
    "## Womens Swimsuits"
   ]
  },
  {
   "cell_type": "code",
   "execution_count": 38,
   "id": "27a0cdab-c362-43ec-bb27-af5f13fee1cd",
   "metadata": {},
   "outputs": [
    {
     "name": "stderr",
     "output_type": "stream",
     "text": [
      "100%|██████████| 30/30 [00:52<00:00,  1.75s/page]\n"
     ]
    }
   ],
   "source": [
    "# Set the total number of pages\n",
    "total_pages = 30\n",
    "\n",
    "# Initialize the progress bar\n",
    "progress_bar = tqdm(total=total_pages, unit='page')\n",
    "\n",
    "# Iterate over each page\n",
    "for page in range(1, total_pages + 1):\n",
    "    # Create the URL for the specific page\n",
    "    url = f'https://www.amazon.in/s?i=apparel&rh=n%3A1571271031%2Cn%3A1953602031%2Cn%3A1968457031%2Cp_36%3A4595084031&dc&ds=v1%3AXiCoBLbxoth98UdFRKvaYnh83XVdXHeFJe0g5w%2F6%2Fg0&rnid=1571271031&ref=sr_pg_{page}'\n",
    "    \n",
    "    # Scrape data from the Amazon page using the provided URL\n",
    "    brand_names, descriptions, prices, ratings, rating_counts, urls, image_urls = scrap_data_from_amazon(url)\n",
    "    \n",
    "    # Extend the respective lists with the obtained data from the current page\n",
    "    amazon_product_brand_names.extend(brand_names)\n",
    "    amazon_product_descriptions.extend(descriptions)\n",
    "    amazon_product_prices.extend(prices)\n",
    "    amazon_product_ratings.extend(ratings)\n",
    "    amazon_product_rating_counts.extend(rating_counts)\n",
    "    amazon_product_urls.extend(urls)\n",
    "    amazon_product_image_urls.extend(image_urls)\n",
    "    \n",
    "    # Update the progress bar\n",
    "    progress_bar.update(1)\n",
    "\n",
    "# Close the progress bar\n",
    "progress_bar.close()"
   ]
  },
  {
   "cell_type": "markdown",
   "id": "23cb0274-6085-4ab1-be95-7fe435689126",
   "metadata": {},
   "source": [
    "## Womens Lehnga Choli"
   ]
  },
  {
   "cell_type": "code",
   "execution_count": 40,
   "id": "c8a88071-a1d4-4460-9f7a-39c728231979",
   "metadata": {},
   "outputs": [
    {
     "name": "stderr",
     "output_type": "stream",
     "text": [
      "100%|██████████| 30/30 [00:50<00:00,  1.70s/page]\n"
     ]
    }
   ],
   "source": [
    "# Set the total number of pages\n",
    "total_pages = 30\n",
    "\n",
    "# Initialize the progress bar\n",
    "progress_bar = tqdm(total=total_pages, unit='page')\n",
    "\n",
    "# Iterate over each page\n",
    "for page in range(1, total_pages + 1):\n",
    "    # Create the URL for the specific page\n",
    "    url = f'https://www.amazon.in/s?i=apparel&rh=n%3A1571271031%2Cn%3A1953602031%2Cn%3A1968533031%2Cp_36%3A4595084031&dc&ds=v1%3AQvOBKs6yyfX0W5zwsecPHG8DUyvgqvkmXv%2FLWCzO%2Fls&rnid=1571271031&ref=sr_pg_{page}'\n",
    "    \n",
    "    # Scrape data from the Amazon page using the provided URL\n",
    "    brand_names, descriptions, prices, ratings, rating_counts, urls, image_urls = scrap_data_from_amazon(url)\n",
    "    \n",
    "    # Extend the respective lists with the obtained data from the current page\n",
    "    amazon_product_brand_names.extend(brand_names)\n",
    "    amazon_product_descriptions.extend(descriptions)\n",
    "    amazon_product_prices.extend(prices)\n",
    "    amazon_product_ratings.extend(ratings)\n",
    "    amazon_product_rating_counts.extend(rating_counts)\n",
    "    amazon_product_urls.extend(urls)\n",
    "    amazon_product_image_urls.extend(image_urls)\n",
    "    \n",
    "    # Update the progress bar\n",
    "    progress_bar.update(1)\n",
    "\n",
    "# Close the progress bar\n",
    "progress_bar.close()"
   ]
  },
  {
   "cell_type": "markdown",
   "id": "07a44ebd-5c70-4fc8-a338-634341324850",
   "metadata": {},
   "source": [
    "## Womens Cap & Hats"
   ]
  },
  {
   "cell_type": "code",
   "execution_count": 42,
   "id": "3c444481-e21c-4c26-92fd-3d7a29e14a80",
   "metadata": {},
   "outputs": [
    {
     "name": "stderr",
     "output_type": "stream",
     "text": [
      "100%|██████████| 30/30 [00:49<00:00,  1.64s/page]\n"
     ]
    }
   ],
   "source": [
    "# Set the total number of pages\n",
    "total_pages = 30\n",
    "\n",
    "# Initialize the progress bar\n",
    "progress_bar = tqdm(total=total_pages, unit='page')\n",
    "\n",
    "# Iterate over each page\n",
    "for page in range(1, total_pages + 1):\n",
    "    # Create the URL for the specific page\n",
    "    url = f'https://www.amazon.in/s?i=apparel&rh=n%3A1571271031%2Cn%3A1953602031%2Cn%3A1968391031%2Cn%3A1968404031%2Cp_36%3A4595084031&dc&ds=v1%3AtIpvPOnl9ZyOez%2FDe2n%2Fp558PEDOJcU8oUeV9YL309k&rnid=1571271031&ref=sr_pg_{page}'\n",
    "    \n",
    "    # Scrape data from the Amazon page using the provided URL\n",
    "    brand_names, descriptions, prices, ratings, rating_counts, urls, image_urls = scrap_data_from_amazon(url)\n",
    "    \n",
    "    # Extend the respective lists with the obtained data from the current page\n",
    "    amazon_product_brand_names.extend(brand_names)\n",
    "    amazon_product_descriptions.extend(descriptions)\n",
    "    amazon_product_prices.extend(prices)\n",
    "    amazon_product_ratings.extend(ratings)\n",
    "    amazon_product_rating_counts.extend(rating_counts)\n",
    "    amazon_product_urls.extend(urls)\n",
    "    amazon_product_image_urls.extend(image_urls)\n",
    "    \n",
    "    # Update the progress bar\n",
    "    progress_bar.update(1)\n",
    "\n",
    "# Close the progress bar\n",
    "progress_bar.close()"
   ]
  },
  {
   "cell_type": "markdown",
   "id": "c96ef351-9508-4fa4-99a4-013c153023d8",
   "metadata": {},
   "source": [
    "# Converting These Lists into a DataFrame"
   ]
  },
  {
   "cell_type": "code",
   "execution_count": 62,
   "id": "e7427e05-c3ea-4a7a-81f6-5b35ce02cbbe",
   "metadata": {},
   "outputs": [
    {
     "name": "stdout",
     "output_type": "stream",
     "text": [
      "brand_names_list:  26723\n",
      "descriptions_list:  26723\n",
      "prices_list:  26586\n",
      "ratings_list:  23404\n",
      "rating_counts_list:  35763\n",
      "product_link_list:  26723\n",
      "image_url_list:  26723\n"
     ]
    },
    {
     "data": {
      "text/html": [
       "<div>\n",
       "<style scoped>\n",
       "    .dataframe tbody tr th:only-of-type {\n",
       "        vertical-align: middle;\n",
       "    }\n",
       "\n",
       "    .dataframe tbody tr th {\n",
       "        vertical-align: top;\n",
       "    }\n",
       "\n",
       "    .dataframe thead th {\n",
       "        text-align: right;\n",
       "    }\n",
       "</style>\n",
       "<table border=\"1\" class=\"dataframe\">\n",
       "  <thead>\n",
       "    <tr style=\"text-align: right;\">\n",
       "      <th></th>\n",
       "      <th>brand</th>\n",
       "      <th>description</th>\n",
       "      <th>price</th>\n",
       "      <th>rating</th>\n",
       "      <th>rating_count</th>\n",
       "      <th>url</th>\n",
       "      <th>img</th>\n",
       "    </tr>\n",
       "  </thead>\n",
       "  <tbody>\n",
       "    <tr>\n",
       "      <th>0</th>\n",
       "      <td>Amazon Brand - House &amp; Shields</td>\n",
       "      <td>Men Polo Shirt</td>\n",
       "      <td>229</td>\n",
       "      <td>3.2</td>\n",
       "      <td>NaN</td>\n",
       "      <td>https://www.amazon.in/sspa/click?ie=UTF8&amp;spc=M...</td>\n",
       "      <td>https://m.media-amazon.com/images/I/71XLDZOOQS...</td>\n",
       "    </tr>\n",
       "    <tr>\n",
       "      <th>1</th>\n",
       "      <td>Crafting Club</td>\n",
       "      <td>Mens Round Neck Regular Fit Short Sleeve</td>\n",
       "      <td>299</td>\n",
       "      <td>5.0</td>\n",
       "      <td>13</td>\n",
       "      <td>https://www.amazon.in/sspa/click?ie=UTF8&amp;spc=M...</td>\n",
       "      <td>https://m.media-amazon.com/images/I/518bD5f9yI...</td>\n",
       "    </tr>\n",
       "    <tr>\n",
       "      <th>2</th>\n",
       "      <td>DIXCY SCOTT MAXIMUS</td>\n",
       "      <td>Men's T-Shirt</td>\n",
       "      <td>299</td>\n",
       "      <td>3.5</td>\n",
       "      <td>NaN</td>\n",
       "      <td>https://www.amazon.in/sspa/click?ie=UTF8&amp;spc=M...</td>\n",
       "      <td>https://m.media-amazon.com/images/I/61yyx18xx9...</td>\n",
       "    </tr>\n",
       "    <tr>\n",
       "      <th>3</th>\n",
       "      <td>DIXCY SCOTT MAXIMUS</td>\n",
       "      <td>Men's Regular Fit T-Shirt (PR17539PL_DSM CHARC...</td>\n",
       "      <td>299</td>\n",
       "      <td>3.5</td>\n",
       "      <td>NaN</td>\n",
       "      <td>https://www.amazon.in/sspa/click?ie=UTF8&amp;spc=M...</td>\n",
       "      <td>https://m.media-amazon.com/images/I/61qAUyHxvm...</td>\n",
       "    </tr>\n",
       "    <tr>\n",
       "      <th>4</th>\n",
       "      <td>London Hills</td>\n",
       "      <td>Men Printed Round Neck Full Sleeve Regular Fit...</td>\n",
       "      <td>298</td>\n",
       "      <td>4.1</td>\n",
       "      <td>2</td>\n",
       "      <td>https://www.amazon.in/London-Hills-Printed-Sle...</td>\n",
       "      <td>https://m.media-amazon.com/images/I/61p21cELnE...</td>\n",
       "    </tr>\n",
       "    <tr>\n",
       "      <th>...</th>\n",
       "      <td>...</td>\n",
       "      <td>...</td>\n",
       "      <td>...</td>\n",
       "      <td>...</td>\n",
       "      <td>...</td>\n",
       "      <td>...</td>\n",
       "      <td>...</td>\n",
       "    </tr>\n",
       "    <tr>\n",
       "      <th>23399</th>\n",
       "      <td>Belanto</td>\n",
       "      <td>Women's &amp; Girls Nipple Cover Strapless Bra Ins...</td>\n",
       "      <td>299</td>\n",
       "      <td>4.4</td>\n",
       "      <td>NaN</td>\n",
       "      <td>https://www.amazon.in/Belanto-Strapless-Backle...</td>\n",
       "      <td>https://m.media-amazon.com/images/I/41I1CM6RMT...</td>\n",
       "    </tr>\n",
       "    <tr>\n",
       "      <th>23400</th>\n",
       "      <td>Bureaucrat</td>\n",
       "      <td>Nipple Cover Silicone Pasties Reusable NoShow ...</td>\n",
       "      <td>299</td>\n",
       "      <td>3.8</td>\n",
       "      <td>NaN</td>\n",
       "      <td>https://www.amazon.in/Bureaucrat-Silicone-Reus...</td>\n",
       "      <td>https://m.media-amazon.com/images/I/51w-DZAFRe...</td>\n",
       "    </tr>\n",
       "    <tr>\n",
       "      <th>23401</th>\n",
       "      <td>HSR</td>\n",
       "      <td>Women Waist Shapewear with Anti Rolling Strip ...</td>\n",
       "      <td>199</td>\n",
       "      <td>5.0</td>\n",
       "      <td>1,044</td>\n",
       "      <td>https://www.amazon.in/HSR-Shapewear-Rolling-Co...</td>\n",
       "      <td>https://m.media-amazon.com/images/I/61QZYAyDwx...</td>\n",
       "    </tr>\n",
       "    <tr>\n",
       "      <th>23402</th>\n",
       "      <td>Fearless Tape</td>\n",
       "      <td>Fearless Tape Generic Tape Double Sided Tape f...</td>\n",
       "      <td>249</td>\n",
       "      <td>2.0</td>\n",
       "      <td>NaN</td>\n",
       "      <td>https://www.amazon.in/Fear-less-Generic-Tape-I...</td>\n",
       "      <td>https://m.media-amazon.com/images/I/71ko4Tq+b1...</td>\n",
       "    </tr>\n",
       "    <tr>\n",
       "      <th>23403</th>\n",
       "      <td>D Club</td>\n",
       "      <td>Tiousoni 6 Pieces Women's Bra Extenders 2 Hook...</td>\n",
       "      <td>299</td>\n",
       "      <td>4.1</td>\n",
       "      <td>NaN</td>\n",
       "      <td>https://www.amazon.in/Tiousoni-Extenders-Comfo...</td>\n",
       "      <td>https://m.media-amazon.com/images/I/71pk7kVK-4...</td>\n",
       "    </tr>\n",
       "  </tbody>\n",
       "</table>\n",
       "<p>23404 rows × 7 columns</p>\n",
       "</div>"
      ],
      "text/plain": [
       "                                brand  \\\n",
       "0      Amazon Brand - House & Shields   \n",
       "1                       Crafting Club   \n",
       "2                 DIXCY SCOTT MAXIMUS   \n",
       "3                 DIXCY SCOTT MAXIMUS   \n",
       "4                        London Hills   \n",
       "...                               ...   \n",
       "23399                         Belanto   \n",
       "23400                      Bureaucrat   \n",
       "23401                             HSR   \n",
       "23402                   Fearless Tape   \n",
       "23403                          D Club   \n",
       "\n",
       "                                             description price rating  \\\n",
       "0                                         Men Polo Shirt   229    3.2   \n",
       "1               Mens Round Neck Regular Fit Short Sleeve   299    5.0   \n",
       "2                                          Men's T-Shirt   299    3.5   \n",
       "3      Men's Regular Fit T-Shirt (PR17539PL_DSM CHARC...   299    3.5   \n",
       "4      Men Printed Round Neck Full Sleeve Regular Fit...   298    4.1   \n",
       "...                                                  ...   ...    ...   \n",
       "23399  Women's & Girls Nipple Cover Strapless Bra Ins...   299    4.4   \n",
       "23400  Nipple Cover Silicone Pasties Reusable NoShow ...   299    3.8   \n",
       "23401  Women Waist Shapewear with Anti Rolling Strip ...   199    5.0   \n",
       "23402  Fearless Tape Generic Tape Double Sided Tape f...   249    2.0   \n",
       "23403  Tiousoni 6 Pieces Women's Bra Extenders 2 Hook...   299    4.1   \n",
       "\n",
       "      rating_count                                                url  \\\n",
       "0              NaN  https://www.amazon.in/sspa/click?ie=UTF8&spc=M...   \n",
       "1               13  https://www.amazon.in/sspa/click?ie=UTF8&spc=M...   \n",
       "2              NaN  https://www.amazon.in/sspa/click?ie=UTF8&spc=M...   \n",
       "3              NaN  https://www.amazon.in/sspa/click?ie=UTF8&spc=M...   \n",
       "4                2  https://www.amazon.in/London-Hills-Printed-Sle...   \n",
       "...            ...                                                ...   \n",
       "23399          NaN  https://www.amazon.in/Belanto-Strapless-Backle...   \n",
       "23400          NaN  https://www.amazon.in/Bureaucrat-Silicone-Reus...   \n",
       "23401        1,044  https://www.amazon.in/HSR-Shapewear-Rolling-Co...   \n",
       "23402          NaN  https://www.amazon.in/Fear-less-Generic-Tape-I...   \n",
       "23403          NaN  https://www.amazon.in/Tiousoni-Extenders-Comfo...   \n",
       "\n",
       "                                                     img  \n",
       "0      https://m.media-amazon.com/images/I/71XLDZOOQS...  \n",
       "1      https://m.media-amazon.com/images/I/518bD5f9yI...  \n",
       "2      https://m.media-amazon.com/images/I/61yyx18xx9...  \n",
       "3      https://m.media-amazon.com/images/I/61qAUyHxvm...  \n",
       "4      https://m.media-amazon.com/images/I/61p21cELnE...  \n",
       "...                                                  ...  \n",
       "23399  https://m.media-amazon.com/images/I/41I1CM6RMT...  \n",
       "23400  https://m.media-amazon.com/images/I/51w-DZAFRe...  \n",
       "23401  https://m.media-amazon.com/images/I/61QZYAyDwx...  \n",
       "23402  https://m.media-amazon.com/images/I/71ko4Tq+b1...  \n",
       "23403  https://m.media-amazon.com/images/I/71pk7kVK-4...  \n",
       "\n",
       "[23404 rows x 7 columns]"
      ]
     },
     "execution_count": 62,
     "metadata": {},
     "output_type": "execute_result"
    }
   ],
   "source": [
    "# Create a dictionary named 'data' to store the data for the DataFrame\n",
    "# The keys in the dictionary represent the column names in the DataFrame\n",
    "# The values are lists containing the data for each column\n",
    "\n",
    "brand_names_list = amazon_product_brand_names\n",
    "descriptions_list = amazon_product_descriptions\n",
    "prices_list = amazon_product_prices\n",
    "ratings_list = amazon_product_ratings\n",
    "rating_counts_list = amazon_product_rating_counts\n",
    "product_link_list = amazon_product_urls\n",
    "image_url_list = amazon_product_image_urls\n",
    "\n",
    "print(\"brand_names_list: \", len(brand_names_list))\n",
    "print(\"descriptions_list: \", len(descriptions_list))\n",
    "print(\"prices_list: \", len(prices_list))\n",
    "print(\"ratings_list: \", len(ratings_list))\n",
    "print(\"rating_counts_list: \", len(rating_counts_list))\n",
    "print(\"product_link_list: \", len(product_link_list))\n",
    "print(\"image_url_list: \", len(image_url_list))\n",
    "\n",
    "min_length = min(len(brand_names_list), len(descriptions_list), len(prices_list), len(ratings_list), len(rating_counts_list), len(product_link_list), len(image_url_list))\n",
    "\n",
    "brand_names_list = brand_names_list[:min_length]\n",
    "descriptions_list = descriptions_list[:min_length]\n",
    "prices_list = prices_list[:min_length]\n",
    "ratings_list = ratings_list[:min_length]\n",
    "rating_counts_list = rating_counts_list[:min_length]\n",
    "product_link_list = product_link_list[:min_length]\n",
    "image_url_list = image_url_list[:min_length]\n",
    "\n",
    "data = {'brand': brand_names_list, 'description': descriptions_list, 'price': prices_list, 'rating': ratings_list, 'rating_count': rating_counts_list, 'url': product_link_list,'img':image_url_list}\n",
    "\n",
    "# Convert the 'data' dictionary to a DataFrame using the pd.DataFrame() function\n",
    "# Each key in the 'data' dictionary will become a column in the DataFrame\n",
    "df = pd.DataFrame(data)\n",
    "df"
   ]
  },
  {
   "cell_type": "markdown",
   "id": "37de2f30-f1ec-4ddd-97f7-c7470456615b",
   "metadata": {},
   "source": [
    "# Saving DataFrame as .csv"
   ]
  },
  {
   "cell_type": "code",
   "execution_count": 67,
   "id": "3ff69941-30fa-4eba-816f-6e57689dd837",
   "metadata": {},
   "outputs": [],
   "source": [
    "# Save the DataFrame as a CSV file with the filename 'clothing_data.csv'\n",
    "# Set the parameter 'index' to False to exclude the row index labels from the CSV file\n",
    "df.to_csv('clothing_data.csv', index=False)"
   ]
  }
 ],
 "metadata": {
  "kernelspec": {
   "display_name": "Python 3 (ipykernel)",
   "language": "python",
   "name": "python3"
  },
  "language_info": {
   "codemirror_mode": {
    "name": "ipython",
    "version": 3
   },
   "file_extension": ".py",
   "mimetype": "text/x-python",
   "name": "python",
   "nbconvert_exporter": "python",
   "pygments_lexer": "ipython3",
   "version": "3.11.7"
  }
 },
 "nbformat": 4,
 "nbformat_minor": 5
}
